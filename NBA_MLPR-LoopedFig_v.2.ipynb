{
 "cells": [
  {
   "cell_type": "markdown",
   "id": "4ae6af31",
   "metadata": {},
   "source": [
    "### Data Import"
   ]
  },
  {
   "cell_type": "code",
   "execution_count": null,
   "id": "92edbbce",
   "metadata": {},
   "outputs": [],
   "source": [
    "import pandas as pd\n",
    "\n",
    "nba_data = pd.read_csv(r\"seasons_clean.csv\")\n",
    "nba_data.rename(columns={\"WS/48\":\"WS48\"}, inplace=True)\n",
    "nba_data.head(2)"
   ]
  },
  {
   "cell_type": "markdown",
   "id": "e6f3d180",
   "metadata": {},
   "source": [
    "### Selecting columns/stats to keep in dataset "
   ]
  },
  {
   "cell_type": "code",
   "execution_count": null,
   "id": "9cd64253",
   "metadata": {},
   "outputs": [],
   "source": [
    "stat_list = [7,0,1,3,5,6,8,9,10,11,12,13,15,17,18,20,21,23,24,26,27,28]\n",
    "output_list = [0,25,30,31,34,35]\n",
    "\n",
    "print(f'Stat list \\n*******\\n{nba_data.columns[stat_list]}')\n",
    "print(f'\\n\\nOutput list \\n*******\\n{nba_data.columns[output_list]}')"
   ]
  },
  {
   "cell_type": "markdown",
   "id": "b403268e",
   "metadata": {},
   "source": [
    "### Defining X y datasets "
   ]
  },
  {
   "cell_type": "code",
   "execution_count": null,
   "id": "824db90d",
   "metadata": {},
   "outputs": [],
   "source": [
    "# Defining dataset of chosen stats \n",
    "# (filtering out players with less than half a quarter of play)\n",
    "nba_X = nba_data.loc[nba_data['MPG'] > 6].iloc[:,stat_list]\n",
    "nba_X = nba_X[nba_X['Season'] != 2018].drop(columns=[\"Season\",\"Player\"])"
   ]
  },
  {
   "cell_type": "code",
   "execution_count": null,
   "id": "ffa7fac5",
   "metadata": {},
   "outputs": [],
   "source": [
    "# Reserving the 2018 season for \"production\"\n",
    "nba_2018_prod = nba_data.loc[nba_data['MPG'] > 6].iloc[:,stat_list]\n",
    "nba_2018_prod = nba_2018_prod[nba_2018_prod['Season'] == 2018].drop(columns=[\"Season\"])"
   ]
  },
  {
   "cell_type": "code",
   "execution_count": null,
   "id": "d6c4778d",
   "metadata": {},
   "outputs": [],
   "source": [
    "# Defining output dataset for y_train/y_test of chosen outputs \n",
    "# (filtering out players with less than half a quarter of play)\n",
    "nba_y = nba_data.loc[nba_data['MPG'] > 6].iloc[:,output_list]\n",
    "nba_y = nba_y[nba_y['Season'] != 2018].drop(columns=[\"Season\"])"
   ]
  },
  {
   "cell_type": "markdown",
   "id": "e07dc6dc",
   "metadata": {},
   "source": [
    "### Build Regressor Function "
   ]
  },
  {
   "cell_type": "code",
   "execution_count": null,
   "id": "e49a8f31",
   "metadata": {},
   "outputs": [],
   "source": [
    "import matplotlib.pyplot as plt\n",
    "\n",
    "from sklearn.utils._testing import ignore_warnings\n",
    "from sklearn.exceptions import ConvergenceWarning\n",
    "from sklearn.preprocessing import StandardScaler\n",
    "from sklearn.model_selection import train_test_split\n",
    "\n",
    "from joblib import dump, load\n",
    "\n",
    "@ignore_warnings(category=ConvergenceWarning)\n",
    "def Regressor(X,y):\n",
    "    \n",
    "    ### Starting data-modeling process \n",
    "\n",
    "    X_train, X_test, y_train, y_test = train_test_split(X, y, random_state=rand)\n",
    "\n",
    "    ### Select Player \n",
    "    \n",
    "    # Selecting a random player from test data set\n",
    "    X_player = X_test.sample(n=1, random_state=42)\n",
    "\n",
    "    season,player,pos = nba_data.iloc[X_player.index.values[0],0:3]\n",
    "    print(f'The {output} for {player} ({pos}, {season})')\n",
    "\n",
    "    ### Scaling data \n",
    "\n",
    "    # Create a StandardScater model and fit it to the training data\n",
    "    X_scaler = StandardScaler().fit(X_train)\n",
    "\n",
    "    # Transform the training and testing data using the X_scaler\n",
    "    X_train_scaled = X_scaler.transform(X_train)\n",
    "    X_test_scaled = X_scaler.transform(X_test)\n",
    "\n",
    "    ### Model fit and score\n",
    "\n",
    "    from sklearn.neural_network import MLPRegressor\n",
    "    model = MLPRegressor()   \n",
    "    \n",
    "    model.fit(X_train_scaled, y_train)\n",
    "    training_score = model.score(X_train_scaled, y_train)\n",
    "    testing_score = model.score(X_test_scaled, y_test)\n",
    "    \n",
    "    print(f\"Training Score: {training_score.round(3)}\")\n",
    "    print(f\"Testing Score: {testing_score.round(3)}\")\n",
    "\n",
    "    ### SAVE MODEL\n",
    "    \n",
    "    dump(model, f'model_NBA_{output}.joblib') \n",
    "    \n",
    "    ### Running the Loop\n",
    "\n",
    "    max_mpg = int(nba_X[\"MPG\"].max())\n",
    "    PER_list = list()\n",
    "\n",
    "    # Building predictions based on each minute of MPG\n",
    "    for i in range(7,max_mpg+1):\n",
    "        X_player[\"MPG\"] = i\n",
    "        X_player_scaled = X_scaler.transform(X_player)\n",
    "        y_player = model.predict(X_player_scaled)\n",
    "\n",
    "        PER_list.append(y_player[0])\n",
    "\n",
    "    ### PLOT THE RESULTS\n",
    "    \n",
    "    plt.scatter(range(7,max_mpg+1), PER_list, c=\"blue\", label=f\"{output} by Minute\")\n",
    "    plt.legend()\n",
    "    plt.title(f\"Test Data - MPG vs. {output} for {player}\")\n",
    "    plt.savefig(fname=f\"Figures/{output}_test\",facecolor=\"white\")\n",
    "    \n",
    "    ### Clear the figure for loop\n",
    "    \n",
    "    plt.clf()\n"
   ]
  },
  {
   "cell_type": "markdown",
   "id": "410252e5",
   "metadata": {},
   "source": [
    "### Evaluate MPG impact on Selected Output Stats, and Plot "
   ]
  },
  {
   "cell_type": "code",
   "execution_count": null,
   "id": "d1c4f91f",
   "metadata": {},
   "outputs": [],
   "source": [
    "from random import randrange\n",
    "rand = randrange(1, 1000)\n",
    "\n",
    "for j in range(0,len(output_list)-1):\n",
    "        \n",
    "    output = nba_y.columns[j]\n",
    "    output_data = nba_y.iloc[:,j]\n",
    "\n",
    "    ### Building X and y dataframe \n",
    "\n",
    "    # Defining inputs\n",
    "    X = nba_X\n",
    "\n",
    "    # Defining outputs\n",
    "    y = output_data.values.reshape(-1)\n",
    "    \n",
    "    print(\"*********************************\")\n",
    "    Regressor(X,y)\n",
    "    print(\"*********************************\")"
   ]
  },
  {
   "cell_type": "markdown",
   "id": "74ce0989",
   "metadata": {},
   "source": [
    "# Production "
   ]
  },
  {
   "cell_type": "markdown",
   "id": "ad438ff3",
   "metadata": {},
   "source": [
    "#### Enter player name  "
   ]
  },
  {
   "cell_type": "code",
   "execution_count": null,
   "id": "23148e9d",
   "metadata": {},
   "outputs": [],
   "source": [
    "player = \"Steven Adams\""
   ]
  },
  {
   "cell_type": "markdown",
   "id": "e00035bd",
   "metadata": {},
   "source": [
    "### Setting dataset for Production "
   ]
  },
  {
   "cell_type": "code",
   "execution_count": null,
   "id": "267c28ed",
   "metadata": {},
   "outputs": [],
   "source": [
    "player_prod = nba_2018_prod[nba_2018_prod['Player'] == player].drop(columns=[\"Player\"])\n",
    "player_prod"
   ]
  },
  {
   "cell_type": "markdown",
   "id": "ca66e4c2",
   "metadata": {},
   "source": [
    "### Evaluate MPG impact on Selected Output Stats, and Plot "
   ]
  },
  {
   "cell_type": "code",
   "execution_count": null,
   "id": "767f1ff6",
   "metadata": {},
   "outputs": [],
   "source": [
    "for j in range(0,len(output_list)-1):\n",
    "    \n",
    "    output = nba_y.columns[j]\n",
    "    output_data = nba_y.iloc[:,j]\n",
    "\n",
    "    ### Building X and y dataframe \n",
    "\n",
    "    # Defining inputs\n",
    "    X_prod_2018 = player_prod\n",
    "    \n",
    "    ### LOAD Model\n",
    "\n",
    "    model_NBA_load = load(f'model_NBA_{output}.joblib') \n",
    "    \n",
    "    pos = player_prod.iloc[0,2]\n",
    "    print(f'Evaluated {output} for {player} (2018)')\n",
    "\n",
    "    ### Scaling data \n",
    "\n",
    "    # Create a StandardScaler model and fit it to the training data\n",
    "    X_train, X_test, y_train, y_test = train_test_split(X, y, random_state=rand)\n",
    "    X_scaler = StandardScaler().fit(X_train)\n",
    "    \n",
    "    ### Running the MPG Loop\n",
    "\n",
    "    max_mpg = int(nba_X[\"MPG\"].max())\n",
    "    PER_list = list()\n",
    "    \n",
    "    # Building predictions based on each minute of MPG\n",
    "    for i in range(7,max_mpg+1):\n",
    "        player_prod[\"MPG\"] = i\n",
    "        X_player_scaled_2018 = X_scaler.transform(player_prod)\n",
    "        y_player_2018 = model_NBA_load.predict(X_player_scaled_2018)\n",
    "\n",
    "        PER_list.append(y_player_2018[0])\n",
    "\n",
    "    ### PLOT THE RESULTS\n",
    "    \n",
    "    plt.scatter(range(7,max_mpg+1), PER_list, c=\"blue\", label=f\"{output} by Minute\")\n",
    "    plt.legend()\n",
    "    plt.title(f\"2018 - MPG vs. {output} for {player}\")\n",
    "    plt.savefig(fname=f\"Figures/{output}\",facecolor=\"lightsteelblue\")\n",
    "\n",
    "    ### Clear the figure for loop\n",
    "    \n",
    "    plt.clf()"
   ]
  },
  {
   "cell_type": "code",
   "execution_count": null,
   "id": "4c907623",
   "metadata": {},
   "outputs": [],
   "source": []
  }
 ],
 "metadata": {
  "kernelspec": {
   "display_name": "Python 3",
   "language": "python",
   "name": "python3"
  },
  "language_info": {
   "codemirror_mode": {
    "name": "ipython",
    "version": 3
   },
   "file_extension": ".py",
   "mimetype": "text/x-python",
   "name": "python",
   "nbconvert_exporter": "python",
   "pygments_lexer": "ipython3",
   "version": "3.8.8"
  }
 },
 "nbformat": 4,
 "nbformat_minor": 5
}
