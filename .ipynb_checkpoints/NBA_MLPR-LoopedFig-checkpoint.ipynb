{
 "cells": [
  {
   "cell_type": "markdown",
   "id": "4ae6af31",
   "metadata": {},
   "source": [
    "### Setting up the data "
   ]
  },
  {
   "cell_type": "code",
   "execution_count": 71,
   "id": "92edbbce",
   "metadata": {},
   "outputs": [
    {
     "data": {
      "text/html": [
       "<div>\n",
       "<style scoped>\n",
       "    .dataframe tbody tr th:only-of-type {\n",
       "        vertical-align: middle;\n",
       "    }\n",
       "\n",
       "    .dataframe tbody tr th {\n",
       "        vertical-align: top;\n",
       "    }\n",
       "\n",
       "    .dataframe thead th {\n",
       "        text-align: right;\n",
       "    }\n",
       "</style>\n",
       "<table border=\"1\" class=\"dataframe\">\n",
       "  <thead>\n",
       "    <tr style=\"text-align: right;\">\n",
       "      <th></th>\n",
       "      <th>Season</th>\n",
       "      <th>Player</th>\n",
       "      <th>Pos</th>\n",
       "      <th>Age</th>\n",
       "      <th>Tm</th>\n",
       "      <th>G</th>\n",
       "      <th>GS</th>\n",
       "      <th>MPG</th>\n",
       "      <th>PPG</th>\n",
       "      <th>RPG</th>\n",
       "      <th>...</th>\n",
       "      <th>TS%</th>\n",
       "      <th>USG%</th>\n",
       "      <th>OWS</th>\n",
       "      <th>DWS</th>\n",
       "      <th>WS</th>\n",
       "      <th>WS48</th>\n",
       "      <th>OBPM</th>\n",
       "      <th>DBPM</th>\n",
       "      <th>BPM</th>\n",
       "      <th>VORP</th>\n",
       "    </tr>\n",
       "  </thead>\n",
       "  <tbody>\n",
       "    <tr>\n",
       "      <th>0</th>\n",
       "      <td>2009</td>\n",
       "      <td>Arron Afflalo</td>\n",
       "      <td>SG</td>\n",
       "      <td>24.0</td>\n",
       "      <td>DEN</td>\n",
       "      <td>82.0</td>\n",
       "      <td>75.0</td>\n",
       "      <td>27.085366</td>\n",
       "      <td>8.829268</td>\n",
       "      <td>3.073171</td>\n",
       "      <td>...</td>\n",
       "      <td>0.576</td>\n",
       "      <td>14.0</td>\n",
       "      <td>2.8</td>\n",
       "      <td>1.4</td>\n",
       "      <td>4.3</td>\n",
       "      <td>0.092</td>\n",
       "      <td>0.8</td>\n",
       "      <td>-0.5</td>\n",
       "      <td>0.3</td>\n",
       "      <td>1.3</td>\n",
       "    </tr>\n",
       "    <tr>\n",
       "      <th>1</th>\n",
       "      <td>2009</td>\n",
       "      <td>Alexis Ajinca</td>\n",
       "      <td>C</td>\n",
       "      <td>21.0</td>\n",
       "      <td>CHA</td>\n",
       "      <td>6.0</td>\n",
       "      <td>0.0</td>\n",
       "      <td>5.000000</td>\n",
       "      <td>1.666667</td>\n",
       "      <td>0.666667</td>\n",
       "      <td>...</td>\n",
       "      <td>0.479</td>\n",
       "      <td>19.3</td>\n",
       "      <td>-0.1</td>\n",
       "      <td>0.0</td>\n",
       "      <td>0.0</td>\n",
       "      <td>-0.013</td>\n",
       "      <td>-8.5</td>\n",
       "      <td>-2.0</td>\n",
       "      <td>-10.4</td>\n",
       "      <td>-0.1</td>\n",
       "    </tr>\n",
       "  </tbody>\n",
       "</table>\n",
       "<p>2 rows × 36 columns</p>\n",
       "</div>"
      ],
      "text/plain": [
       "   Season         Player Pos   Age   Tm     G    GS        MPG       PPG  \\\n",
       "0    2009  Arron Afflalo  SG  24.0  DEN  82.0  75.0  27.085366  8.829268   \n",
       "1    2009  Alexis Ajinca   C  21.0  CHA   6.0   0.0   5.000000  1.666667   \n",
       "\n",
       "        RPG  ...    TS%  USG%  OWS  DWS   WS   WS48  OBPM  DBPM   BPM  VORP  \n",
       "0  3.073171  ...  0.576  14.0  2.8  1.4  4.3  0.092   0.8  -0.5   0.3   1.3  \n",
       "1  0.666667  ...  0.479  19.3 -0.1  0.0  0.0 -0.013  -8.5  -2.0 -10.4  -0.1  \n",
       "\n",
       "[2 rows x 36 columns]"
      ]
     },
     "execution_count": 71,
     "metadata": {},
     "output_type": "execute_result"
    }
   ],
   "source": [
    "import pandas as pd\n",
    "\n",
    "nba_data = pd.read_csv(r\"seasons_clean.csv\")\n",
    "nba_data.rename(columns={\"WS/48\":\"WS48\"}, inplace=True)\n",
    "nba_data.head(2)"
   ]
  },
  {
   "cell_type": "code",
   "execution_count": 72,
   "id": "9cd64253",
   "metadata": {},
   "outputs": [
    {
     "name": "stdout",
     "output_type": "stream",
     "text": [
      "Stat list \n",
      "*******\n",
      "Index(['MPG', 'Season', 'Player', 'Age', 'G', 'GS', 'PPG', 'RPG', 'APG', 'SPG',\n",
      "       'BPG', 'TOPG', 'FG', 'FG%', '3P', '3P%', 'FT', 'FT%', 'PFPG', 'TS%',\n",
      "       'USG%', 'OWS'],\n",
      "      dtype='object')\n",
      "\n",
      "\n",
      "Output list \n",
      "*******\n",
      "Index(['Season', 'PER', 'WS', 'WS48', 'BPM', 'VORP'], dtype='object')\n"
     ]
    }
   ],
   "source": [
    "# Selecting columns to keep/drop for data set\n",
    "stat_list = [7,0,1,3,5,6,8,9,10,11,12,13,15,17,18,20,21,23,24,26,27,28]\n",
    "output_list = [0,25,30,31,34,35]\n",
    "\n",
    "print(f'Stat list \\n*******\\n{nba_data.columns[stat_list]}')\n",
    "print(f'\\n\\nOutput list \\n*******\\n{nba_data.columns[output_list]}')"
   ]
  },
  {
   "cell_type": "code",
   "execution_count": 49,
   "id": "4372eaba",
   "metadata": {},
   "outputs": [
    {
     "name": "stdout",
     "output_type": "stream",
     "text": [
      "(5001, 20)\n",
      "(5001, 1)\n",
      "            MPG   Age     G    GS       PPG       RPG       APG      SPG  \\\n",
      "1144  24.597015  26.0  67.0  17.0  9.791045  2.776119  1.970149  0.80597   \n",
      "\n",
      "           BPG      TOPG     FG    FG%    3P   3P%    FT    FT%      PFPG  \\\n",
      "1144  0.074627  0.985075  239.0  0.402  97.0  0.37  81.0  0.844  2.029851   \n",
      "\n",
      "        TS%  USG%  OWS  \n",
      "1144  0.515  19.8  1.1  \n"
     ]
    },
    {
     "name": "stderr",
     "output_type": "stream",
     "text": [
      "C:\\Users\\dcrus\\anaconda3\\lib\\site-packages\\sklearn\\utils\\validation.py:63: DataConversionWarning: A column-vector y was passed when a 1d array was expected. Please change the shape of y to (n_samples, ), for example using ravel().\n",
      "  return f(*args, **kwargs)\n",
      "C:\\Users\\dcrus\\anaconda3\\lib\\site-packages\\sklearn\\neural_network\\_multilayer_perceptron.py:614: ConvergenceWarning: Stochastic Optimizer: Maximum iterations (200) reached and the optimization hasn't converged yet.\n",
      "  warnings.warn(\n"
     ]
    },
    {
     "name": "stdout",
     "output_type": "stream",
     "text": [
      "Training Score: 0.9823204917818248\n",
      "Testing Score: 0.9775476868685499\n",
      "(5001, 20)\n",
      "(5001, 1)\n",
      "            MPG   Age     G    GS       PPG       RPG       APG      SPG  \\\n",
      "1144  24.597015  26.0  67.0  17.0  9.791045  2.776119  1.970149  0.80597   \n",
      "\n",
      "           BPG      TOPG     FG    FG%    3P   3P%    FT    FT%      PFPG  \\\n",
      "1144  0.074627  0.985075  239.0  0.402  97.0  0.37  81.0  0.844  2.029851   \n",
      "\n",
      "        TS%  USG%  OWS  \n",
      "1144  0.515  19.8  1.1  \n"
     ]
    },
    {
     "name": "stderr",
     "output_type": "stream",
     "text": [
      "C:\\Users\\dcrus\\anaconda3\\lib\\site-packages\\sklearn\\utils\\validation.py:63: DataConversionWarning: A column-vector y was passed when a 1d array was expected. Please change the shape of y to (n_samples, ), for example using ravel().\n",
      "  return f(*args, **kwargs)\n",
      "C:\\Users\\dcrus\\anaconda3\\lib\\site-packages\\sklearn\\neural_network\\_multilayer_perceptron.py:614: ConvergenceWarning: Stochastic Optimizer: Maximum iterations (200) reached and the optimization hasn't converged yet.\n",
      "  warnings.warn(\n"
     ]
    },
    {
     "name": "stdout",
     "output_type": "stream",
     "text": [
      "Training Score: 0.9829281159476689\n",
      "Testing Score: 0.9696900569753981\n",
      "(5001, 20)\n",
      "(5001, 1)\n",
      "            MPG   Age     G    GS       PPG       RPG       APG      SPG  \\\n",
      "1144  24.597015  26.0  67.0  17.0  9.791045  2.776119  1.970149  0.80597   \n",
      "\n",
      "           BPG      TOPG     FG    FG%    3P   3P%    FT    FT%      PFPG  \\\n",
      "1144  0.074627  0.985075  239.0  0.402  97.0  0.37  81.0  0.844  2.029851   \n",
      "\n",
      "        TS%  USG%  OWS  \n",
      "1144  0.515  19.8  1.1  \n"
     ]
    },
    {
     "name": "stderr",
     "output_type": "stream",
     "text": [
      "C:\\Users\\dcrus\\anaconda3\\lib\\site-packages\\sklearn\\utils\\validation.py:63: DataConversionWarning: A column-vector y was passed when a 1d array was expected. Please change the shape of y to (n_samples, ), for example using ravel().\n",
      "  return f(*args, **kwargs)\n"
     ]
    },
    {
     "name": "stdout",
     "output_type": "stream",
     "text": [
      "Training Score: 0.6657010900142037\n",
      "Testing Score: 0.5480911072016019\n",
      "(5001, 20)\n",
      "(5001, 1)\n",
      "            MPG   Age     G    GS       PPG       RPG       APG      SPG  \\\n",
      "1144  24.597015  26.0  67.0  17.0  9.791045  2.776119  1.970149  0.80597   \n",
      "\n",
      "           BPG      TOPG     FG    FG%    3P   3P%    FT    FT%      PFPG  \\\n",
      "1144  0.074627  0.985075  239.0  0.402  97.0  0.37  81.0  0.844  2.029851   \n",
      "\n",
      "        TS%  USG%  OWS  \n",
      "1144  0.515  19.8  1.1  \n"
     ]
    },
    {
     "name": "stderr",
     "output_type": "stream",
     "text": [
      "C:\\Users\\dcrus\\anaconda3\\lib\\site-packages\\sklearn\\utils\\validation.py:63: DataConversionWarning: A column-vector y was passed when a 1d array was expected. Please change the shape of y to (n_samples, ), for example using ravel().\n",
      "  return f(*args, **kwargs)\n",
      "C:\\Users\\dcrus\\anaconda3\\lib\\site-packages\\sklearn\\neural_network\\_multilayer_perceptron.py:614: ConvergenceWarning: Stochastic Optimizer: Maximum iterations (200) reached and the optimization hasn't converged yet.\n",
      "  warnings.warn(\n"
     ]
    },
    {
     "name": "stdout",
     "output_type": "stream",
     "text": [
      "Training Score: 0.9335887861688936\n",
      "Testing Score: 0.8960984599792441\n",
      "(5001, 20)\n",
      "(5001, 1)\n",
      "            MPG   Age     G    GS       PPG       RPG       APG      SPG  \\\n",
      "1144  24.597015  26.0  67.0  17.0  9.791045  2.776119  1.970149  0.80597   \n",
      "\n",
      "           BPG      TOPG     FG    FG%    3P   3P%    FT    FT%      PFPG  \\\n",
      "1144  0.074627  0.985075  239.0  0.402  97.0  0.37  81.0  0.844  2.029851   \n",
      "\n",
      "        TS%  USG%  OWS  \n",
      "1144  0.515  19.8  1.1  \n"
     ]
    },
    {
     "name": "stderr",
     "output_type": "stream",
     "text": [
      "C:\\Users\\dcrus\\anaconda3\\lib\\site-packages\\sklearn\\utils\\validation.py:63: DataConversionWarning: A column-vector y was passed when a 1d array was expected. Please change the shape of y to (n_samples, ), for example using ravel().\n",
      "  return f(*args, **kwargs)\n",
      "C:\\Users\\dcrus\\anaconda3\\lib\\site-packages\\sklearn\\neural_network\\_multilayer_perceptron.py:614: ConvergenceWarning: Stochastic Optimizer: Maximum iterations (200) reached and the optimization hasn't converged yet.\n",
      "  warnings.warn(\n"
     ]
    },
    {
     "name": "stdout",
     "output_type": "stream",
     "text": [
      "Training Score: 0.9765103174964725\n",
      "Testing Score: 0.9445052047082203\n"
     ]
    },
    {
     "data": {
      "text/plain": [
       "<Figure size 432x288 with 0 Axes>"
      ]
     },
     "metadata": {},
     "output_type": "display_data"
    }
   ],
   "source": [
    "# Defining dataset of chosen stats\n",
    "nba_data2 = nba_data.loc[nba_data['MPG'] > 6]\n",
    "nba_data2 = nba_data2.iloc[:,stat_list]\n",
    "\n",
    "\n",
    "nba_data3 = nba_data.loc[nba_data['MPG'] > 6]\n",
    "output_data = nba_data3.iloc[:,output_list]\n",
    "output_data = output_data[output_data['Season'] != 2018].drop(columns=[\"Season\"])\n",
    "\n",
    "\n",
    "for j in range(0,len(output_list)-1):\n",
    "\n",
    "#     output_data = nba_data3.iloc[:,output_list]\n",
    "#     output_data = output_data[output_data['Season'] != 2018].drop(columns=[\"Season\"])\n",
    "\n",
    "    output = output_data.columns[j]\n",
    "    output_data = output_data.iloc[:,j]\n",
    "\n",
    "    # Reserving the 2018 season for \"production\"\n",
    "    # ***Player name included\n",
    "    nba_data_prod = nba_data2[nba_data2['Season'] == 2018]\n",
    "    nba_data_prod = nba_data_prod.drop(columns=['Season'])\n",
    "\n",
    "    # Setting the remainder of data for test and train\n",
    "    nba_data_train_test = nba_data2[nba_data2['Season'] != 2018].drop(columns=[\"Player\",\"Season\"])\n",
    "\n",
    "    # renaming for ease\n",
    "    nba_tt = nba_data_train_test\n",
    "    nba_tt\n",
    "\n",
    "    ### BUilding X and y dataframe \n",
    "\n",
    "    # Defining inputs\n",
    "    X = nba_tt\n",
    "    X\n",
    "\n",
    "    # Defining outputs\n",
    "    y = output_data.values.reshape(-1,1)\n",
    "    y\n",
    "\n",
    "    print(X.shape)\n",
    "    print(y.shape)\n",
    "    y.max()\n",
    "\n",
    "    X\n",
    "\n",
    "    ### Starting data-modeling process \n",
    "\n",
    "    from sklearn.model_selection import train_test_split\n",
    "\n",
    "    X_train, X_test, y_train, y_test = train_test_split(X, y, random_state=42)\n",
    "\n",
    "    ### Select Player \n",
    "\n",
    "    # Selecting a random player from test data set\n",
    "    X_player = X_test.sample(n=1, random_state=42)\n",
    "    \n",
    "    season,player,pos = nba_data.iloc[X_player.index.values[0],0:3]\n",
    "    print(f'The {output} for {player} ({pos}, {season})')\n",
    "\n",
    "    ### Scaling data \n",
    "\n",
    "    from sklearn.preprocessing import StandardScaler\n",
    "\n",
    "    # Create a StandardScater model and fit it to the training data\n",
    "    X_scaler = StandardScaler().fit(X_train)\n",
    "\n",
    "    # Transform the training and testing data using the X_scaler\n",
    "    X_train_scaled = X_scaler.transform(X_train)\n",
    "    X_test_scaled = X_scaler.transform(X_test)\n",
    "\n",
    "    # from sklearn.linear_model import LinearRegression\n",
    "    # model = LinearRegression()\n",
    "\n",
    "    from sklearn.neural_network import MLPRegressor\n",
    "    model = MLPRegressor()\n",
    "\n",
    "    ### Model fit and score \n",
    "\n",
    "    model.fit(X_train_scaled, y_train)\n",
    "    training_score = model.score(X_train_scaled, y_train)\n",
    "    testing_score = model.score(X_test_scaled, y_test)\n",
    "\n",
    "    print(f\"Training Score: {training_score}\")\n",
    "    print(f\"Testing Score: {testing_score}\")\n",
    "\n",
    "\n",
    "\n",
    "    ### Running the Loop\n",
    "\n",
    "    max_mpg = int(nba_tt[\"MPG\"].max())\n",
    "    PER_list = list()\n",
    "\n",
    "    # Building predictions based on each minute of MPG\n",
    "    for i in range(7,max_mpg+1):\n",
    "        X_player[\"MPG\"] = i\n",
    "        X_player_scaled = X_scaler.transform(X_player)\n",
    "        y_player = model.predict(X_player_scaled)\n",
    "\n",
    "        PER_list.append(y_player[0])\n",
    "\n",
    "    # PER_list\n",
    "\n",
    "    # ### Summarizing Weights for each Stat\n",
    "\n",
    "    # importance = model.coefs_\n",
    "    # importance\n",
    "    # # consider permutation feature importance \n",
    "    # # https://scikit-learn.org/stable/modules/permutation_importance.html\n",
    "\n",
    "\n",
    "    # list1 = list()\n",
    "    # list2 = list()\n",
    "\n",
    "    # for i in range(0,len(X.columns)):\n",
    "    #     list1.append(importance[0][i].round(4))\n",
    "    #     list2.append(X.columns[i])\n",
    "\n",
    "    # df = pd.DataFrame(list(zip(list1, list2)),\n",
    "    #                columns =['Weight', 'Stat']).set_index('Stat').sort_values(by='Weight',ascending=False)\n",
    "    # df.T\n",
    "\n",
    "    ###  Summarizing PER results for each potential MPG\n",
    "\n",
    "    import matplotlib.pyplot as plt\n",
    "\n",
    "    plt.scatter(range(7,max_mpg+1), PER_list, c=\"blue\", label=f\"{output} by Minute\")\n",
    "    plt.legend()\n",
    "    plt.title(f\"MPG vs. {output}\")\n",
    "    plt.savefig(fname=f\"Figures/{output}\")\n",
    "\n",
    "    plt.clf()\n",
    "\n"
   ]
  },
  {
   "cell_type": "code",
   "execution_count": 60,
   "id": "42b517ce",
   "metadata": {},
   "outputs": [
    {
     "data": {
      "text/plain": [
       "'SG'"
      ]
     },
     "execution_count": 60,
     "metadata": {},
     "output_type": "execute_result"
    }
   ],
   "source": [
    "# X_player.index.values[0]\n",
    "season,player,pos = nba_data.iloc[X_player.index.values[0],0:3]\n",
    "\n"
   ]
  },
  {
   "cell_type": "code",
   "execution_count": null,
   "id": "134e2164",
   "metadata": {},
   "outputs": [],
   "source": []
  }
 ],
 "metadata": {
  "kernelspec": {
   "display_name": "Python 3",
   "language": "python",
   "name": "python3"
  },
  "language_info": {
   "codemirror_mode": {
    "name": "ipython",
    "version": 3
   },
   "file_extension": ".py",
   "mimetype": "text/x-python",
   "name": "python",
   "nbconvert_exporter": "python",
   "pygments_lexer": "ipython3",
   "version": "3.8.8"
  }
 },
 "nbformat": 4,
 "nbformat_minor": 5
}
